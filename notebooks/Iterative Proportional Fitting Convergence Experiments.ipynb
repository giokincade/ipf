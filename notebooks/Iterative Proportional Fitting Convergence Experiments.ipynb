{
 "cells": [
  {
   "cell_type": "markdown",
   "metadata": {},
   "source": [
    "# TLDR\n",
    "\n",
    "Let's see how IPF converges as we change the number and makeup of the suppressions.\n",
    "\n",
    "# Dependencies"
   ]
  },
  {
   "cell_type": "code",
   "execution_count": 14,
   "metadata": {},
   "outputs": [],
   "source": [
    "import numpy as np\n",
    "import seaborn as sns\n",
    "import matplotlib.pyplot as plt\n",
    "from scipy import stats\n",
    "import random"
   ]
  },
  {
   "cell_type": "code",
   "execution_count": 3,
   "metadata": {},
   "outputs": [
    {
     "data": {
      "application/javascript": [
       "IPython.OutputArea.prototype._should_scroll = function(lines) {\n",
       "    return false;\n",
       "}"
      ],
      "text/plain": [
       "<IPython.core.display.Javascript object>"
      ]
     },
     "metadata": {},
     "output_type": "display_data"
    }
   ],
   "source": [
    "%%javascript\n",
    "IPython.OutputArea.prototype._should_scroll = function(lines) {\n",
    "    return false;\n",
    "}"
   ]
  },
  {
   "cell_type": "code",
   "execution_count": 4,
   "metadata": {},
   "outputs": [],
   "source": [
    "import matplotlib.pyplot as plt\n",
    "\n",
    "SMALL_SIZE = 12\n",
    "MEDIUM_SIZE = 16\n",
    "BIGGER_SIZE = 30\n",
    "\n",
    "plt.rc('font', size=SMALL_SIZE)          \n",
    "plt.rc('axes', titlesize=SMALL_SIZE)     \n",
    "plt.rc('axes', labelsize=MEDIUM_SIZE)    \n",
    "plt.rc('xtick', labelsize=SMALL_SIZE)    \n",
    "plt.rc('ytick', labelsize=SMALL_SIZE)    \n",
    "plt.rc('legend', fontsize=SMALL_SIZE)    \n",
    "plt.rc('figure', titlesize=BIGGER_SIZE, figsize=(15,8)) "
   ]
  },
  {
   "cell_type": "markdown",
   "metadata": {},
   "source": [
    "# Library\n",
    "\n",
    "Here are some parameters/constants for the exercise:"
   ]
  },
  {
   "cell_type": "code",
   "execution_count": 31,
   "metadata": {},
   "outputs": [],
   "source": [
    "RANGE = (1, 1000)\n",
    "SIZE = (100,100)\n",
    "CONVERGENCE_THRESHOLD = 1e-3\n",
    "MAX_ITERATIONS = 50000"
   ]
  },
  {
   "cell_type": "markdown",
   "metadata": {},
   "source": [
    "And here are the library functions that do all the heavy lifting:"
   ]
  },
  {
   "cell_type": "code",
   "execution_count": 45,
   "metadata": {},
   "outputs": [],
   "source": [
    "class TestData:\n",
    "    \"\"\"A datatype for all the inputs we need to perform a test\"\"\"\n",
    "    \n",
    "    def __init__(self, \n",
    "                 suppressed_data: np.ndarray, \n",
    "                 mask: np.ndarray, \n",
    "                 row_totals: np.ndarray,\n",
    "                 column_totals: np.ndarray):\n",
    "        self.suppressed_data = suppressed_data\n",
    "        self.mask = mask\n",
    "        self.row_totals = row_totals\n",
    "        self.column_totals = column_totals\n",
    "\n",
    "        \n",
    "def get_suppression_mask(data: np.ndarray, number_of_suppressions: int) -> np.ndarray:\n",
    "    \"\"\"Randomly choose number_of_suppressions cells to suppress, and return a mask of the suppressions.\"\"\"\n",
    "    \n",
    "    rows, columns = data.shape\n",
    "    mask = np.array([[False] * columns] * rows)\n",
    "    assert(mask.shape == data.shape)\n",
    "    \n",
    "    for i in range(number_of_suppressions):\n",
    "        success = False\n",
    "        \n",
    "        while not success:\n",
    "            row = random.randint(0, rows-1)\n",
    "            col = random.randint(0, columns-1)\n",
    "            \n",
    "            if not mask[row, col]:\n",
    "                mask[row, col] = True\n",
    "                success = True\n",
    "                \n",
    "    return mask\n",
    "\n",
    "def suppress_data(data: np.ndarray, number_of_suppressions:int) -> TestData:\n",
    "    \"\"\"Replace number_of_suppressions cells with random numbers.\n",
    "    \"\"\"\n",
    "    mask = get_suppression_mask(data, number_of_suppressions)\n",
    "    \n",
    "    suppressed = data.copy()\n",
    "    suppressed[mask] = np.rint(np.random.uniform(low=RANGE[0], high=RANGE[1], size=[number_of_suppressions]))\n",
    "    \n",
    "    column_totals = np.sum(original_data, axis=0)\n",
    "    row_totals = np.sum(original_data, axis=1)\n",
    "\n",
    "    return TestData(suppressed, mask, row_totals, column_totals)\n",
    "\n",
    "\n",
    "def ipf(data: TestData) -> int:\n",
    "    \"\"\"Perform IPF and return the number of iterations\"\"\"\n",
    "    \n",
    "    suppressed_data = data.suppressed_data.copy()\n",
    "    mask = data.mask\n",
    "    row_totals = data.row_totals\n",
    "    column_totals = data.column_totals\n",
    "    \n",
    "    delta = CONVERGENCE_THRESHOLD + 1\n",
    "    i = 0\n",
    "\n",
    "    while delta > CONVERGENCE_THRESHOLD and i < MAX_ITERATIONS:\n",
    "        before = suppressed_data[mask]\n",
    "    \n",
    "        current_row_totals = np.sum(suppressed_data, axis=1)\n",
    "        current_column_totals = np.sum(suppressed_data, axis=0)\n",
    "\n",
    "        for row in range(SIZE[0]):\n",
    "            missing_indexes = mask[row, :]    \n",
    "            suppressed_data[row, missing_indexes] = suppressed_data[row, missing_indexes] / current_row_totals[row] \n",
    "            suppressed_data[row, missing_indexes] = suppressed_data[row, missing_indexes] * row_totals[row]\n",
    "\n",
    "        for col in range(SIZE[1]):\n",
    "            missing_indexes = mask[:, col]    \n",
    "            suppressed_data[missing_indexes, col] = suppressed_data[missing_indexes, col] / current_column_totals[col] \n",
    "            suppressed_data[missing_indexes, col] = suppressed_data[missing_indexes, col] * column_totals[col]    \n",
    "\n",
    "        after = suppressed_data[mask]\n",
    "        delta = np.sum(np.abs(after-before))\n",
    "        i += 1\n",
    "\n",
    "    return i"
   ]
  },
  {
   "cell_type": "markdown",
   "metadata": {},
   "source": [
    "# Convergence Test"
   ]
  },
  {
   "cell_type": "code",
   "execution_count": 49,
   "metadata": {},
   "outputs": [],
   "source": [
    "MAX_SUPPRESSIONS = 10\n",
    "\n",
    "original_data = np.rint(np.random.uniform(low=RANGE[0], high=RANGE[1], size=SIZE))\n",
    "\n",
    "iterations = []\n",
    "for i in range(1, MAX_SUPPRESSIONS):\n",
    "    test_data = suppress_data(original_data, i)\n",
    "    iterations.append([i, ipf(test_data)])\n"
   ]
  },
  {
   "cell_type": "code",
   "execution_count": 50,
   "metadata": {},
   "outputs": [
    {
     "data": {
      "text/plain": [
       "[[1, 2936],\n",
       " [2, 394],\n",
       " [3, 1057],\n",
       " [4, 613],\n",
       " [5, 738],\n",
       " [6, 1305],\n",
       " [7, 421],\n",
       " [8, 2963],\n",
       " [9, 764]]"
      ]
     },
     "execution_count": 50,
     "metadata": {},
     "output_type": "execute_result"
    }
   ],
   "source": [
    "iterations"
   ]
  },
  {
   "cell_type": "code",
   "execution_count": 51,
   "metadata": {},
   "outputs": [],
   "source": [
    "x = np.array(iterations)"
   ]
  },
  {
   "cell_type": "code",
   "execution_count": 57,
   "metadata": {},
   "outputs": [
    {
     "data": {
      "image/png": "[encoded data removed]",
      "text/plain": [
       "<matplotlib.figure.Figure at 0x7ff3e9f3d630>"
      ]
     },
     "metadata": {},
     "output_type": "display_data"
    }
   ],
   "source": [
    "plt.plot(x[:,0],x[:,1]) \n",
    "plt.suptitle(\"Iterations by Number of Missing Values\")\n",
    "plt.ylabel(\"Iterations\")\n",
    "plt.xlabel(\"abs(actual - random_seed)\")\n",
    "plt.show()"
   ]
  }
 ],
 "metadata": {
  "kernelspec": {
   "display_name": "Python 3",
   "language": "python",
   "name": "python3"
  },
  "language_info": {
   "codemirror_mode": {
    "name": "ipython",
    "version": 3
   },
   "file_extension": ".py",
   "mimetype": "text/x-python",
   "name": "python",
   "nbconvert_exporter": "python",
   "pygments_lexer": "ipython3",
   "version": "3.6.3"
  }
 },
 "nbformat": 4,
 "nbformat_minor": 2
}
