{
 "cells": [
  {
   "cell_type": "markdown",
   "metadata": {},
   "source": [
    "# Dependencies"
   ]
  },
  {
   "cell_type": "code",
   "execution_count": 67,
   "metadata": {},
   "outputs": [],
   "source": [
    "import numpy as np\n",
    "import seaborn as sns\n",
    "import matplotlib.pyplot as plt\n",
    "from scipy import stats"
   ]
  },
  {
   "cell_type": "code",
   "execution_count": 65,
   "metadata": {},
   "outputs": [
    {
     "data": {
      "application/javascript": [
       "IPython.OutputArea.prototype._should_scroll = function(lines) {\n",
       "    return false;\n",
       "}"
      ],
      "text/plain": [
       "<IPython.core.display.Javascript object>"
      ]
     },
     "metadata": {},
     "output_type": "display_data"
    }
   ],
   "source": [
    "%%javascript\n",
    "IPython.OutputArea.prototype._should_scroll = function(lines) {\n",
    "    return false;\n",
    "}"
   ]
  },
  {
   "cell_type": "code",
   "execution_count": 57,
   "metadata": {},
   "outputs": [],
   "source": [
    "import matplotlib.pyplot as plt\n",
    "\n",
    "SMALL_SIZE = 12\n",
    "MEDIUM_SIZE = 16\n",
    "BIGGER_SIZE = 30\n",
    "\n",
    "plt.rc('font', size=SMALL_SIZE)          # controls default text sizes\n",
    "plt.rc('axes', titlesize=SMALL_SIZE)     # fontsize of the axes title\n",
    "plt.rc('axes', labelsize=MEDIUM_SIZE)    # fontsize of the x and y labels\n",
    "plt.rc('xtick', labelsize=SMALL_SIZE)    # fontsize of the tick labels\n",
    "plt.rc('ytick', labelsize=SMALL_SIZE)    # fontsize of the tick labels\n",
    "plt.rc('legend', fontsize=SMALL_SIZE)    # legend fontsize\n",
    "plt.rc('figure', titlesize=BIGGER_SIZE, figsize=(15,8))  # fontsize of the figure title"
   ]
  },
  {
   "cell_type": "markdown",
   "metadata": {},
   "source": [
    "# IPF Demo\n",
    "\n",
    "## Setup\n",
    "\n",
    "First we'll generate some data, and for any data that is lower than some minimum threshold, we'll replace it with a random seed:"
   ]
  },
  {
   "cell_type": "code",
   "execution_count": 109,
   "metadata": {},
   "outputs": [],
   "source": [
    "RANGE = (1, 10)\n",
    "MIN_VALUE = 3\n",
    "SIZE = (5,5)\n",
    "\n",
    "# Generate some original data\n",
    "original_data = np.rint(np.random.uniform(low=RANGE[0], high=RANGE[1], size=SIZE))\n",
    "\n",
    "# Any value less than MIN_VALUE is going to be suppressed.\n",
    "missing_value_mask = original_data < MIN_VALUE\n",
    "missing_values = original_data[missing_value_mask]\n",
    "\n",
    "# Calculate the totals before we suppress.\n",
    "column_totals = np.sum(original_data, axis=0)\n",
    "row_totals = np.sum(original_data, axis=1)\n",
    "\n",
    "\n",
    "\n",
    "# Replace the suppressed numbers with a random number in the interval [0, MIN_VALUE]\n",
    "suppressed_data = np.copy(original_data)\n",
    "suppressed_data[missing_value_mask] = np.rint(np.random.uniform(low=1, high=MIN_VALUE, size=missing_values.shape))"
   ]
  },
  {
   "cell_type": "code",
   "execution_count": 110,
   "metadata": {},
   "outputs": [
    {
     "name": "stdout",
     "output_type": "stream",
     "text": [
      "[[ 10.  10.   2.   8.   2.]\n",
      " [  7.   3.   4.   8.   5.]\n",
      " [  8.   6.   3.   1.   3.]\n",
      " [  7.   4.   3.   4.   6.]\n",
      " [  9.   1.   9.   9.   7.]]\n",
      "[ 2.  2.  1.  1.]\n",
      "[[False False  True False  True]\n",
      " [False False False False False]\n",
      " [False False False  True False]\n",
      " [False False False False False]\n",
      " [False  True False False False]]\n",
      "[[ 10.  10.   2.   8.   1.]\n",
      " [  7.   3.   4.   8.   5.]\n",
      " [  8.   6.   3.   2.   3.]\n",
      " [  7.   4.   3.   4.   6.]\n",
      " [  9.   3.   9.   9.   7.]]\n",
      "[ 32.  27.  21.  24.  35.]\n",
      "[ 41.  24.  21.  30.  23.]\n"
     ]
    }
   ],
   "source": [
    "print(original_data)\n",
    "print(missing_values)\n",
    "print(missing_value_mask)\n",
    "print(suppressed_data)\n",
    "print(row_totals)\n",
    "print(column_totals)"
   ]
  },
  {
   "cell_type": "code",
   "execution_count": 98,
   "metadata": {},
   "outputs": [
    {
     "name": "stdout",
     "output_type": "stream",
     "text": [
      "28.0\n",
      "28.0\n"
     ]
    }
   ],
   "source": [
    "print(np.sum(original_data[0, :]))\n",
    "print(row_totals[0])"
   ]
  },
  {
   "cell_type": "markdown",
   "metadata": {},
   "source": [
    "Let's take a look at how far off our random seeds are:"
   ]
  },
  {
   "cell_type": "code",
   "execution_count": 66,
   "metadata": {
    "scrolled": true
   },
   "outputs": [
    {
     "data": {
      "image/png": "[encoded data removed]",
      "text/plain": [
       "<matplotlib.figure.Figure at 0x7fd584c65400>"
      ]
     },
     "metadata": {},
     "output_type": "display_data"
    }
   ],
   "source": [
    "errors = np.absolute(suppressed_data[missing_value_mask] - missing_values)\n",
    "sns.distplot(errors, kde=False)\n",
    "plt.suptitle(\"Error of Random Seeds\")\n",
    "plt.ylabel(\"% of Errors\")\n",
    "plt.xlabel(\"Error\")\n",
    "plt.show()"
   ]
  },
  {
   "cell_type": "code",
   "execution_count": 68,
   "metadata": {},
   "outputs": [
    {
     "data": {
      "text/plain": [
       "DescribeResult(nobs=8, minmax=(4.0, 9.0), mean=5.75, variance=2.7857142857142856, skewness=0.8129583193181347, kurtosis=-0.193293885601578)"
      ]
     },
     "execution_count": 68,
     "metadata": {},
     "output_type": "execute_result"
    }
   ],
   "source": [
    "stats.describe(errors)"
   ]
  },
  {
   "cell_type": "markdown",
   "metadata": {},
   "source": [
    "## IPF"
   ]
  },
  {
   "cell_type": "code",
   "execution_count": 229,
   "metadata": {},
   "outputs": [
    {
     "name": "stdout",
     "output_type": "stream",
     "text": [
      "[[ 10.          10.           2.00003615   8.           1.99996138]\n",
      " [  7.           3.           4.           8.           5.        ]\n",
      " [  8.           6.           3.           1.00003862   3.        ]\n",
      " [  7.           4.           3.           4.           6.        ]\n",
      " [  9.           1.00022581   9.           9.           7.        ]]\n",
      "[ 2.  2.  1.  1.]\n",
      "[ 2.00003286  1.99996489  1.00003549  1.00020994]\n"
     ]
    }
   ],
   "source": [
    "CONVERGENCE_THRESHOLD = 1e-5\n",
    "MAX_ITERATIONS = 1000\n",
    "\n",
    "#while np.sum(errors) > CONVERGENCE_THRESHOLD:\n",
    "\n",
    "# Process rows\n",
    "current_row_totals = np.sum(suppressed_data, axis=1)\n",
    "current_column_totals = np.sum(suppressed_data, axis=0)\n",
    "    \n",
    "print(suppressed_data)\n",
    "for row in range(SIZE[0]):\n",
    "    missing_indexes = missing_value_mask[row, :]    \n",
    "    suppressed_data[row, missing_indexes] = suppressed_data[row, missing_indexes] / current_row_totals[row] \n",
    "    suppressed_data[row, missing_indexes] = suppressed_data[row, missing_indexes] * row_totals[row]\n",
    "    \n",
    "for col in range(SIZE[1]):\n",
    "    missing_indexes = missing_value_mask[:, col]    \n",
    "    suppressed_data[missing_indexes, col] = suppressed_data[missing_indexes, col] / current_column_totals[col] \n",
    "    suppressed_data[missing_indexes, col] = suppressed_data[missing_indexes, col] * column_totals[col]    \n",
    "    \n",
    "print(original_data[missing_value_mask])\n",
    "print(suppressed_data[missing_value_mask])    "
   ]
  },
  {
   "cell_type": "code",
   "execution_count": 75,
   "metadata": {},
   "outputs": [
    {
     "name": "stderr",
     "output_type": "stream",
     "text": [
      "/opt/conda/lib/python3.6/site-packages/ipykernel_launcher.py:1: VisibleDeprecationWarning: boolean index did not match indexed array along dimension 1; dimension is 10 but corresponding boolean dimension is 8\n",
      "  \"\"\"Entry point for launching an IPython kernel.\n"
     ]
    },
    {
     "data": {
      "text/plain": [
       "array([ 12.])"
      ]
     },
     "execution_count": 75,
     "metadata": {},
     "output_type": "execute_result"
    }
   ],
   "source": [
    "original_data[0,[True, False, False, False, False, False, False, False]]"
   ]
  }
 ],
 "metadata": {
  "kernelspec": {
   "display_name": "Python 3",
   "language": "python",
   "name": "python3"
  },
  "language_info": {
   "codemirror_mode": {
    "name": "ipython",
    "version": 3
   },
   "file_extension": ".py",
   "mimetype": "text/x-python",
   "name": "python",
   "nbconvert_exporter": "python",
   "pygments_lexer": "ipython3",
   "version": "3.6.3"
  }
 },
 "nbformat": 4,
 "nbformat_minor": 2
}
