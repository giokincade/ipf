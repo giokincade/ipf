{
 "cells": [
  {
   "cell_type": "markdown",
   "metadata": {},
   "source": [
    "# Dependencies"
   ]
  },
  {
   "cell_type": "code",
   "execution_count": 1,
   "metadata": {},
   "outputs": [],
   "source": [
    "import numpy as np\n",
    "import seaborn as sns\n",
    "import matplotlib.pyplot as plt\n",
    "from scipy import stats"
   ]
  },
  {
   "cell_type": "code",
   "execution_count": 2,
   "metadata": {},
   "outputs": [
    {
     "data": {
      "application/javascript": [
       "IPython.OutputArea.prototype._should_scroll = function(lines) {\n",
       "    return false;\n",
       "}"
      ],
      "text/plain": [
       "<IPython.core.display.Javascript object>"
      ]
     },
     "metadata": {},
     "output_type": "display_data"
    }
   ],
   "source": [
    "%%javascript\n",
    "IPython.OutputArea.prototype._should_scroll = function(lines) {\n",
    "    return false;\n",
    "}"
   ]
  },
  {
   "cell_type": "code",
   "execution_count": 3,
   "metadata": {},
   "outputs": [],
   "source": [
    "import matplotlib.pyplot as plt\n",
    "\n",
    "SMALL_SIZE = 12\n",
    "MEDIUM_SIZE = 16\n",
    "BIGGER_SIZE = 30\n",
    "\n",
    "plt.rc('font', size=SMALL_SIZE)          \n",
    "plt.rc('axes', titlesize=SMALL_SIZE)     \n",
    "plt.rc('axes', labelsize=MEDIUM_SIZE)    \n",
    "plt.rc('xtick', labelsize=SMALL_SIZE)    \n",
    "plt.rc('ytick', labelsize=SMALL_SIZE)    \n",
    "plt.rc('legend', fontsize=SMALL_SIZE)    \n",
    "plt.rc('figure', titlesize=BIGGER_SIZE, figsize=(15,8)) "
   ]
  },
  {
   "cell_type": "markdown",
   "metadata": {},
   "source": [
    "# IPF Demo\n",
    "\n",
    "## Setup\n",
    "\n",
    "First we'll generate some data, and for any data that is lower than some minimum threshold, we'll replace it with a random seed:"
   ]
  },
  {
   "cell_type": "code",
   "execution_count": 4,
   "metadata": {},
   "outputs": [],
   "source": [
    "RANGE = (1, 1000)\n",
    "MIN_VALUE = 10\n",
    "SIZE = (100,100)\n",
    "\n",
    "# Generate some original data\n",
    "original_data = np.rint(np.random.uniform(low=RANGE[0], high=RANGE[1], size=SIZE))\n",
    "\n",
    "# Any value less than MIN_VALUE is going to be suppressed.\n",
    "missing_value_mask = original_data < MIN_VALUE\n",
    "missing_values = original_data[missing_value_mask]\n",
    "\n",
    "# Calculate the totals before we suppress.\n",
    "column_totals = np.sum(original_data, axis=0)\n",
    "row_totals = np.sum(original_data, axis=1)\n",
    "\n",
    "\n",
    "# Replace the suppressed numbers with a random number in the interval [0, MIN_VALUE]\n",
    "suppressed_data = np.copy(original_data)\n",
    "suppressed_data[missing_value_mask] = np.rint(np.random.uniform(low=1, high=MIN_VALUE, size=missing_values.shape))"
   ]
  },
  {
   "cell_type": "code",
   "execution_count": 5,
   "metadata": {},
   "outputs": [
    {
     "name": "stdout",
     "output_type": "stream",
     "text": [
      "[ 7.  2.  8.  4.  9.  6.  5.  8.  4.  6.  3.  1.  2.  4.  8.  2.  7.  2.\n",
      "  3.  7.  4.  3.  6.  6.  2.  5.  7.  3.  5.  8.  7.  5.  5.  2.  4.  2.\n",
      "  1.  5.  8.  6.  5.  6.  2.  6.  4.  6.  6.  6.  7.  9.  7.  2.  3.  2.\n",
      "  1.  4.  5.  3.  1.  6.  9.  6.  7.  6.  2.  5.  9.  9.  4.  5.  2.  5.\n",
      "  6.  6.  3.  7.  9.  7.  3.  5.  5.  2.  5.  7.]\n",
      "[  7.   4.   2.   4.   1.   9.   2.   6.   2.   4.   5.   3.   4.   3.   8.\n",
      "   4.   9.   1.   4.   2.   1.   2.   2.   7.   2.   6.   3.   5.   6.   4.\n",
      "   6.   8.   3.  10.  10.   5.   5.   5.   9.   6.   6.   5.  10.   9.   2.\n",
      "   5.   7.   2.   4.   8.   5.   6.   4.   7.   7.   3.  10.   3.   5.   5.\n",
      "   3.   2.   9.   3.   6.   5.   7.   6.   5.   9.   6.   8.   2.   6.   9.\n",
      "   8.   8.   5.   7.   7.   4.   6.   8.   7.]\n"
     ]
    }
   ],
   "source": [
    "print(missing_values)\n",
    "print(suppressed_data[missing_value_mask])"
   ]
  },
  {
   "cell_type": "markdown",
   "metadata": {},
   "source": [
    "Let's take a look at how far off our random seeds are:"
   ]
  },
  {
   "cell_type": "code",
   "execution_count": 9,
   "metadata": {
    "scrolled": true
   },
   "outputs": [
    {
     "data": {
      "image/png": "[encoded data removed]",
      "text/plain": [
       "<matplotlib.figure.Figure at 0x7f0bdf3c9400>"
      ]
     },
     "metadata": {},
     "output_type": "display_data"
    }
   ],
   "source": [
    "errors = np.absolute(suppressed_data[missing_value_mask] - missing_values)\n",
    "sns.distplot(errors, kde=False)\n",
    "plt.suptitle(\"Error of Random Seeds\")\n",
    "plt.ylabel(\"Number of Missing Values\")\n",
    "plt.xlabel(\"abs(actual - random_seed)\")\n",
    "plt.show()"
   ]
  },
  {
   "cell_type": "code",
   "execution_count": 7,
   "metadata": {},
   "outputs": [
    {
     "data": {
      "text/plain": [
       "DescribeResult(nobs=84, minmax=(0.0, 8.0), mean=2.5357142857142856, variance=3.8420826161790012, skewness=0.8780720757250956, kurtosis=0.3882195251671261)"
      ]
     },
     "execution_count": 7,
     "metadata": {},
     "output_type": "execute_result"
    }
   ],
   "source": [
    "stats.describe(errors)"
   ]
  },
  {
   "cell_type": "markdown",
   "metadata": {},
   "source": [
    "## IPF"
   ]
  },
  {
   "cell_type": "code",
   "execution_count": 10,
   "metadata": {},
   "outputs": [],
   "source": [
    "CONVERGENCE_THRESHOLD = 1e-3\n",
    "MAX_ITERATIONS = 50000\n",
    "\n",
    "delta = CONVERGENCE_THRESHOLD + 1\n",
    "i = 0\n",
    "\n",
    "while delta > CONVERGENCE_THRESHOLD and i < MAX_ITERATIONS:\n",
    "    before = suppressed_data[missing_value_mask]\n",
    "    \n",
    "    current_row_totals = np.sum(suppressed_data, axis=1)\n",
    "    for row in range(SIZE[0]):\n",
    "        missing_indexes = missing_value_mask[row, :]    \n",
    "        suppressed_data[row, missing_indexes] = suppressed_data[row, missing_indexes] / current_row_totals[row] \n",
    "        suppressed_data[row, missing_indexes] = suppressed_data[row, missing_indexes] * row_totals[row]\n",
    "        \n",
    "    current_column_totals = np.sum(suppressed_data, axis=0)\n",
    "    for col in range(SIZE[1]):\n",
    "        missing_indexes = missing_value_mask[:, col]    \n",
    "        suppressed_data[missing_indexes, col] = suppressed_data[missing_indexes, col] / current_column_totals[col] \n",
    "        suppressed_data[missing_indexes, col] = suppressed_data[missing_indexes, col] * column_totals[col]    \n",
    "    \n",
    "    after = suppressed_data[missing_value_mask]\n",
    "    delta = np.sum(np.abs(after-before))\n",
    "    i += 1"
   ]
  },
  {
   "cell_type": "markdown",
   "metadata": {},
   "source": [
    "How did we do?"
   ]
  },
  {
   "cell_type": "code",
   "execution_count": 14,
   "metadata": {},
   "outputs": [
    {
     "data": {
      "image/png": "[encoded data removed]",
      "text/plain": [
       "<matplotlib.figure.Figure at 0x7f0bdc86f278>"
      ]
     },
     "metadata": {},
     "output_type": "display_data"
    }
   ],
   "source": [
    "errors = np.absolute(suppressed_data[missing_value_mask] - missing_values)\n",
    "sns.distplot(errors, kde=False)\n",
    "plt.suptitle(\"Error Post-IPF\")\n",
    "plt.ylabel(\"Number of Missing Values\")\n",
    "plt.xlabel(\"abs(actual - post_ipf_value)\")\n",
    "plt.show()"
   ]
  },
  {
   "cell_type": "code",
   "execution_count": 12,
   "metadata": {},
   "outputs": [
    {
     "name": "stdout",
     "output_type": "stream",
     "text": [
      "DescribeResult(nobs=84, minmax=(0.0, 2.0482400537029797), mean=0.40214191898690094, variance=0.21234535459954387, skewness=1.5609635911077497, kurtosis=2.048922754655198)\n",
      "28597\n"
     ]
    }
   ],
   "source": [
    "print(stats.describe(errors))\n",
    "print(i)"
   ]
  },
  {
   "cell_type": "code",
   "execution_count": null,
   "metadata": {},
   "outputs": [],
   "source": [
    "print(missing_values)\n",
    "print(np.rint(suppressed_data[missing_value_mask]))"
   ]
  }
 ],
 "metadata": {
  "kernelspec": {
   "display_name": "Python 3",
   "language": "python",
   "name": "python3"
  },
  "language_info": {
   "codemirror_mode": {
    "name": "ipython",
    "version": 3
   },
   "file_extension": ".py",
   "mimetype": "text/x-python",
   "name": "python",
   "nbconvert_exporter": "python",
   "pygments_lexer": "ipython3",
   "version": "3.6.3"
  }
 },
 "nbformat": 4,
 "nbformat_minor": 2
}
