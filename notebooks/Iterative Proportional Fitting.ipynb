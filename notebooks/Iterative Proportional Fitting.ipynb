{
 "cells": [
  {
   "cell_type": "markdown",
   "metadata": {},
   "source": [
    "# Dependencies"
   ]
  },
  {
   "cell_type": "code",
   "execution_count": 67,
   "metadata": {},
   "outputs": [],
   "source": [
    "import numpy as np\n",
    "import seaborn as sns\n",
    "import matplotlib.pyplot as plt\n",
    "from scipy import stats"
   ]
  },
  {
   "cell_type": "code",
   "execution_count": 65,
   "metadata": {},
   "outputs": [
    {
     "data": {
      "application/javascript": [
       "IPython.OutputArea.prototype._should_scroll = function(lines) {\n",
       "    return false;\n",
       "}"
      ],
      "text/plain": [
       "<IPython.core.display.Javascript object>"
      ]
     },
     "metadata": {},
     "output_type": "display_data"
    }
   ],
   "source": [
    "%%javascript\n",
    "IPython.OutputArea.prototype._should_scroll = function(lines) {\n",
    "    return false;\n",
    "}"
   ]
  },
  {
   "cell_type": "code",
   "execution_count": 57,
   "metadata": {},
   "outputs": [],
   "source": [
    "import matplotlib.pyplot as plt\n",
    "\n",
    "SMALL_SIZE = 12\n",
    "MEDIUM_SIZE = 16\n",
    "BIGGER_SIZE = 30\n",
    "\n",
    "plt.rc('font', size=SMALL_SIZE)          # controls default text sizes\n",
    "plt.rc('axes', titlesize=SMALL_SIZE)     # fontsize of the axes title\n",
    "plt.rc('axes', labelsize=MEDIUM_SIZE)    # fontsize of the x and y labels\n",
    "plt.rc('xtick', labelsize=SMALL_SIZE)    # fontsize of the tick labels\n",
    "plt.rc('ytick', labelsize=SMALL_SIZE)    # fontsize of the tick labels\n",
    "plt.rc('legend', fontsize=SMALL_SIZE)    # legend fontsize\n",
    "plt.rc('figure', titlesize=BIGGER_SIZE, figsize=(15,8))  # fontsize of the figure title"
   ]
  },
  {
   "cell_type": "markdown",
   "metadata": {},
   "source": [
    "# IPF Demo\n",
    "\n",
    "## Setup\n",
    "\n",
    "First we'll generate some data, and for any data that is lower than some minimum threshold, we'll replace it with a random seed:"
   ]
  },
  {
   "cell_type": "code",
   "execution_count": 237,
   "metadata": {},
   "outputs": [],
   "source": [
    "RANGE = (1, 20)\n",
    "MIN_VALUE = 5\n",
    "SIZE = (5,5)\n",
    "\n",
    "# Generate some original data\n",
    "original_data = np.rint(np.random.uniform(low=RANGE[0], high=RANGE[1], size=SIZE))\n",
    "\n",
    "# Any value less than MIN_VALUE is going to be suppressed.\n",
    "missing_value_mask = original_data < MIN_VALUE\n",
    "missing_values = original_data[missing_value_mask]\n",
    "\n",
    "# Calculate the totals before we suppress.\n",
    "column_totals = np.sum(original_data, axis=0)\n",
    "row_totals = np.sum(original_data, axis=1)\n",
    "\n",
    "\n",
    "# Replace the suppressed numbers with a random number in the interval [0, MIN_VALUE]\n",
    "suppressed_data = np.copy(original_data)\n",
    "suppressed_data[missing_value_mask] = np.rint(np.random.uniform(low=1, high=MIN_VALUE, size=missing_values.shape))"
   ]
  },
  {
   "cell_type": "code",
   "execution_count": 241,
   "metadata": {},
   "outputs": [
    {
     "name": "stdout",
     "output_type": "stream",
     "text": [
      "[ 4.  2.  3.]\n",
      "[ 2.  3.  2.]\n"
     ]
    }
   ],
   "source": [
    "print(missing_values)\n",
    "print(suppressed_data[missing_value_mask])"
   ]
  },
  {
   "cell_type": "markdown",
   "metadata": {},
   "source": [
    "Let's take a look at how far off our random seeds are:"
   ]
  },
  {
   "cell_type": "code",
   "execution_count": 243,
   "metadata": {
    "scrolled": true
   },
   "outputs": [
    {
     "data": {
      "image/png": "[encoded data removed]",
      "text/plain": [
       "<matplotlib.figure.Figure at 0x7fd584423198>"
      ]
     },
     "metadata": {},
     "output_type": "display_data"
    }
   ],
   "source": [
    "errors = np.absolute(suppressed_data[missing_value_mask] - missing_values)\n",
    "sns.distplot(errors, kde=False)\n",
    "plt.suptitle(\"Error of Random Seeds\")\n",
    "plt.ylabel(\"% of Errors\")\n",
    "plt.xlabel(\"Error\")\n",
    "plt.show()"
   ]
  },
  {
   "cell_type": "code",
   "execution_count": 68,
   "metadata": {},
   "outputs": [
    {
     "data": {
      "text/plain": [
       "DescribeResult(nobs=8, minmax=(4.0, 9.0), mean=5.75, variance=2.7857142857142856, skewness=0.8129583193181347, kurtosis=-0.193293885601578)"
      ]
     },
     "execution_count": 68,
     "metadata": {},
     "output_type": "execute_result"
    }
   ],
   "source": [
    "stats.describe(errors)"
   ]
  },
  {
   "cell_type": "markdown",
   "metadata": {},
   "source": [
    "## IPF"
   ]
  },
  {
   "cell_type": "code",
   "execution_count": 246,
   "metadata": {},
   "outputs": [],
   "source": [
    "CONVERGENCE_THRESHOLD = 1e-5\n",
    "MAX_ITERATIONS = 1000\n",
    "\n",
    "delta = CONVERGENCE_THRESHOLD + 1\n",
    "i = 0\n",
    "\n",
    "while delta > CONVERGENCE_THRESHOLD and i < MAX_ITERATIONS:\n",
    "    before = suppressed_data[missing_value_mask]\n",
    "    \n",
    "    current_row_totals = np.sum(suppressed_data, axis=1)\n",
    "    current_column_totals = np.sum(suppressed_data, axis=0)\n",
    "    \n",
    "    for row in range(SIZE[0]):\n",
    "        missing_indexes = missing_value_mask[row, :]    \n",
    "        suppressed_data[row, missing_indexes] = suppressed_data[row, missing_indexes] / current_row_totals[row] \n",
    "        suppressed_data[row, missing_indexes] = suppressed_data[row, missing_indexes] * row_totals[row]\n",
    "\n",
    "    for col in range(SIZE[1]):\n",
    "        missing_indexes = missing_value_mask[:, col]    \n",
    "        suppressed_data[missing_indexes, col] = suppressed_data[missing_indexes, col] / current_column_totals[col] \n",
    "        suppressed_data[missing_indexes, col] = suppressed_data[missing_indexes, col] * column_totals[col]    \n",
    "    \n",
    "    after = suppressed_data[missing_value_mask]\n",
    "    delta = np.sum(np.abs(after-before))\n",
    "    i += 1"
   ]
  },
  {
   "cell_type": "code",
   "execution_count": 247,
   "metadata": {},
   "outputs": [
    {
     "name": "stdout",
     "output_type": "stream",
     "text": [
      "[ 4.  2.  3.]\n",
      "[ 4.          2.00012591  2.99988057]\n"
     ]
    }
   ],
   "source": [
    "print(missing_values)\n",
    "print(suppressed_data[missing_value_mask])"
   ]
  }
 ],
 "metadata": {
  "kernelspec": {
   "display_name": "Python 3",
   "language": "python",
   "name": "python3"
  },
  "language_info": {
   "codemirror_mode": {
    "name": "ipython",
    "version": 3
   },
   "file_extension": ".py",
   "mimetype": "text/x-python",
   "name": "python",
   "nbconvert_exporter": "python",
   "pygments_lexer": "ipython3",
   "version": "3.6.3"
  }
 },
 "nbformat": 4,
 "nbformat_minor": 2
}
