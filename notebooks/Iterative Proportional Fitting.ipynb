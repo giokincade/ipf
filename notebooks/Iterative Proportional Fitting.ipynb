{
 "cells": [
  {
   "cell_type": "markdown",
   "metadata": {},
   "source": [
    "# Dependencies"
   ]
  },
  {
   "cell_type": "code",
   "execution_count": 67,
   "metadata": {},
   "outputs": [],
   "source": [
    "import numpy as np\n",
    "import seaborn as sns\n",
    "import matplotlib.pyplot as plt\n",
    "from scipy import stats"
   ]
  },
  {
   "cell_type": "code",
   "execution_count": 65,
   "metadata": {},
   "outputs": [
    {
     "data": {
      "application/javascript": [
       "IPython.OutputArea.prototype._should_scroll = function(lines) {\n",
       "    return false;\n",
       "}"
      ],
      "text/plain": [
       "<IPython.core.display.Javascript object>"
      ]
     },
     "metadata": {},
     "output_type": "display_data"
    }
   ],
   "source": [
    "%%javascript\n",
    "IPython.OutputArea.prototype._should_scroll = function(lines) {\n",
    "    return false;\n",
    "}"
   ]
  },
  {
   "cell_type": "code",
   "execution_count": 57,
   "metadata": {},
   "outputs": [],
   "source": [
    "import matplotlib.pyplot as plt\n",
    "\n",
    "SMALL_SIZE = 12\n",
    "MEDIUM_SIZE = 16\n",
    "BIGGER_SIZE = 30\n",
    "\n",
    "plt.rc('font', size=SMALL_SIZE)          # controls default text sizes\n",
    "plt.rc('axes', titlesize=SMALL_SIZE)     # fontsize of the axes title\n",
    "plt.rc('axes', labelsize=MEDIUM_SIZE)    # fontsize of the x and y labels\n",
    "plt.rc('xtick', labelsize=SMALL_SIZE)    # fontsize of the tick labels\n",
    "plt.rc('ytick', labelsize=SMALL_SIZE)    # fontsize of the tick labels\n",
    "plt.rc('legend', fontsize=SMALL_SIZE)    # legend fontsize\n",
    "plt.rc('figure', titlesize=BIGGER_SIZE, figsize=(15,8))  # fontsize of the figure title"
   ]
  },
  {
   "cell_type": "markdown",
   "metadata": {},
   "source": [
    "# IPF Demo\n",
    "\n",
    "## Setup\n",
    "\n",
    "First we'll generate some data, and for any data that is lower than some minimum threshold, we'll replace it with a random seed:"
   ]
  },
  {
   "cell_type": "code",
   "execution_count": 268,
   "metadata": {},
   "outputs": [],
   "source": [
    "RANGE = (1, 1000)\n",
    "MIN_VALUE = 10\n",
    "SIZE = (100,100)\n",
    "\n",
    "# Generate some original data\n",
    "original_data = np.rint(np.random.uniform(low=RANGE[0], high=RANGE[1], size=SIZE))\n",
    "\n",
    "# Any value less than MIN_VALUE is going to be suppressed.\n",
    "missing_value_mask = original_data < MIN_VALUE\n",
    "missing_values = original_data[missing_value_mask]\n",
    "\n",
    "# Calculate the totals before we suppress.\n",
    "column_totals = np.sum(original_data, axis=0)\n",
    "row_totals = np.sum(original_data, axis=1)\n",
    "\n",
    "\n",
    "# Replace the suppressed numbers with a random number in the interval [0, MIN_VALUE]\n",
    "suppressed_data = np.copy(original_data)\n",
    "suppressed_data[missing_value_mask] = np.rint(np.random.uniform(low=1, high=MIN_VALUE, size=missing_values.shape))"
   ]
  },
  {
   "cell_type": "code",
   "execution_count": 269,
   "metadata": {},
   "outputs": [
    {
     "name": "stdout",
     "output_type": "stream",
     "text": [
      "[ 9.  5.  6.  8.  8.  9.  2.  8.  3.  5.  3.  7.  9.  9.  7.  4.  6.  5.\n",
      "  1.  2.  9.  3.  5.  5.  3.  6.  4.  6.  7.  6.  8.  8.  6.  6.  5.  9.\n",
      "  5.  3.  3.  7.  6.  4.  4.  5.  7.  6.  7.  3.  6.  3.  2.  9.  6.  2.\n",
      "  2.  2.  4.  4.  3.  1.  3.  5.  6.  5.  2.  2.  5.  3.  8.  7.  2.  3.\n",
      "  7.  5.  9.  6.  2.  4.  3.  3.  4.  3.  3.  1.  9.  2.  3.  9.  2.  7.\n",
      "  4.  8.  3.  6.  5.  8.  3.  8.  9.  8.  9.  3.  4.  4.]\n",
      "[  6.   4.   3.   9.   9.  10.   9.   8.   7.   2.   3.   4.   7.   3.   5.\n",
      "   8.   2.   2.   3.   5.   9.   8.   2.   3.   2.   7.   4.   4.   6.   5.\n",
      "   6.   2.   6.   7.   4.   7.   5.   6.   9.   4.   2.   3.   2.   4.  10.\n",
      "   9.   3.   9.   6.   3.   8.  10.   1.   9.   5.   9.   6.   6.  10.   9.\n",
      "   2.  10.   1.  10.   4.   8.  10.   9.   6.   2.   2.   8.   8.   6.   2.\n",
      "   4.  10.   2.   3.   2.   5.   4.  10.   2.   6.   1.   8.   4.   3.   6.\n",
      "   8.   6.   3.   4.   5.   7.   8.   6.   6.   6.   9.   8.   4.   7.]\n"
     ]
    }
   ],
   "source": [
    "print(missing_values)\n",
    "print(suppressed_data[missing_value_mask])"
   ]
  },
  {
   "cell_type": "markdown",
   "metadata": {},
   "source": [
    "Let's take a look at how far off our random seeds are:"
   ]
  },
  {
   "cell_type": "code",
   "execution_count": 270,
   "metadata": {
    "scrolled": true
   },
   "outputs": [
    {
     "data": {
      "image/png": "[encoded data removed]",
      "text/plain": [
       "<matplotlib.figure.Figure at 0x7fd584545cf8>"
      ]
     },
     "metadata": {},
     "output_type": "display_data"
    }
   ],
   "source": [
    "errors = np.absolute(suppressed_data[missing_value_mask] - missing_values)\n",
    "sns.distplot(errors, kde=False)\n",
    "plt.suptitle(\"Error of Random Seeds\")\n",
    "plt.ylabel(\"Number of Missing Values\")\n",
    "plt.xlabel(\"Error\")\n",
    "plt.show()"
   ]
  },
  {
   "cell_type": "code",
   "execution_count": 271,
   "metadata": {},
   "outputs": [
    {
     "data": {
      "text/plain": [
       "DescribeResult(nobs=104, minmax=(0.0, 8.0), mean=2.7788461538461537, variance=4.8341112770724424, skewness=0.6135764169163831, kurtosis=-0.679369858774237)"
      ]
     },
     "execution_count": 271,
     "metadata": {},
     "output_type": "execute_result"
    }
   ],
   "source": [
    "stats.describe(errors)"
   ]
  },
  {
   "cell_type": "markdown",
   "metadata": {},
   "source": [
    "## IPF"
   ]
  },
  {
   "cell_type": "code",
   "execution_count": 276,
   "metadata": {},
   "outputs": [],
   "source": [
    "CONVERGENCE_THRESHOLD = 1e-3\n",
    "MAX_ITERATIONS = 50000\n",
    "\n",
    "delta = CONVERGENCE_THRESHOLD + 1\n",
    "i = 0\n",
    "\n",
    "while delta > CONVERGENCE_THRESHOLD and i < MAX_ITERATIONS:\n",
    "    before = suppressed_data[missing_value_mask]\n",
    "    \n",
    "    current_row_totals = np.sum(suppressed_data, axis=1)\n",
    "    current_column_totals = np.sum(suppressed_data, axis=0)\n",
    "    \n",
    "    for row in range(SIZE[0]):\n",
    "        missing_indexes = missing_value_mask[row, :]    \n",
    "        suppressed_data[row, missing_indexes] = suppressed_data[row, missing_indexes] / current_row_totals[row] \n",
    "        suppressed_data[row, missing_indexes] = suppressed_data[row, missing_indexes] * row_totals[row]\n",
    "\n",
    "    for col in range(SIZE[1]):\n",
    "        missing_indexes = missing_value_mask[:, col]    \n",
    "        suppressed_data[missing_indexes, col] = suppressed_data[missing_indexes, col] / current_column_totals[col] \n",
    "        suppressed_data[missing_indexes, col] = suppressed_data[missing_indexes, col] * column_totals[col]    \n",
    "    \n",
    "    after = suppressed_data[missing_value_mask]\n",
    "    delta = np.sum(np.abs(after-before))\n",
    "    i += 1"
   ]
  },
  {
   "cell_type": "markdown",
   "metadata": {},
   "source": [
    "How did we do?"
   ]
  },
  {
   "cell_type": "code",
   "execution_count": 277,
   "metadata": {},
   "outputs": [
    {
     "data": {
      "image/png": "[encoded data removed]",
      "text/plain": [
       "<matplotlib.figure.Figure at 0x7fd584d5c518>"
      ]
     },
     "metadata": {},
     "output_type": "display_data"
    }
   ],
   "source": [
    "errors = np.absolute(suppressed_data[missing_value_mask] - missing_values)\n",
    "sns.distplot(errors, kde=False)\n",
    "plt.suptitle(\"Error Post-IPF\")\n",
    "plt.ylabel(\"Number of Missing Values\")\n",
    "plt.xlabel(\"Error\")\n",
    "plt.show()"
   ]
  },
  {
   "cell_type": "code",
   "execution_count": 278,
   "metadata": {},
   "outputs": [
    {
     "name": "stdout",
     "output_type": "stream",
     "text": [
      "DescribeResult(nobs=104, minmax=(4.4408920985006262e-16, 2.4335289906200441), mean=0.44344176044298433, variance=0.26098921490017585, skewness=1.8360559109149908, kurtosis=3.159653350802503)\n",
      "29748\n"
     ]
    }
   ],
   "source": [
    "print(stats.describe(errors))\n",
    "print(i)"
   ]
  },
  {
   "cell_type": "code",
   "execution_count": 282,
   "metadata": {},
   "outputs": [
    {
     "name": "stdout",
     "output_type": "stream",
     "text": [
      "[ 9.  5.  6.  8.  8.  9.  2.  8.  3.  5.  3.  7.  9.  9.  7.  4.  6.  5.\n",
      "  1.  2.  9.  3.  5.  5.  3.  6.  4.  6.  7.  6.  8.  8.  6.  6.  5.  9.\n",
      "  5.  3.  3.  7.  6.  4.  4.  5.  7.  6.  7.  3.  6.  3.  2.  9.  6.  2.\n",
      "  2.  2.  4.  4.  3.  1.  3.  5.  6.  5.  2.  2.  5.  3.  8.  7.  2.  3.\n",
      "  7.  5.  9.  6.  2.  4.  3.  3.  4.  3.  3.  1.  9.  2.  3.  9.  2.  7.\n",
      "  4.  8.  3.  6.  5.  8.  3.  8.  9.  8.  9.  3.  4.  4.]\n",
      "[  9.   5.   6.   8.   8.  10.   2.   7.   5.   3.   3.   7.   9.   9.   7.\n",
      "   4.   6.   4.   1.   2.   8.   3.   5.   5.   3.   7.   3.   6.   7.   6.\n",
      "   8.   8.   6.   6.   5.  10.   5.   3.   3.   6.   5.   6.   3.   4.   9.\n",
      "   6.   7.   3.   6.   3.   3.  10.   4.   2.   2.   3.   4.   4.   3.   1.\n",
      "   4.   5.   4.   5.   2.   2.   6.   3.   8.   6.   2.   3.   7.   7.   7.\n",
      "   6.   2.   4.   3.   2.   4.   3.   3.   1.   9.   3.   3.   9.   2.   7.\n",
      "   3.   8.   3.   6.   5.   8.   4.   7.  10.   8.   9.   3.   4.   4.]\n"
     ]
    }
   ],
   "source": [
    "print(missing_values)\n",
    "print(np.rint(suppressed_data[missing_value_mask]))"
   ]
  }
 ],
 "metadata": {
  "kernelspec": {
   "display_name": "Python 3",
   "language": "python",
   "name": "python3"
  },
  "language_info": {
   "codemirror_mode": {
    "name": "ipython",
    "version": 3
   },
   "file_extension": ".py",
   "mimetype": "text/x-python",
   "name": "python",
   "nbconvert_exporter": "python",
   "pygments_lexer": "ipython3",
   "version": "3.6.3"
  }
 },
 "nbformat": 4,
 "nbformat_minor": 2
}
